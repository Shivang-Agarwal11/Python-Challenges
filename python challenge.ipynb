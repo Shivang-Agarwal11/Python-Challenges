{
 "cells": [
  {
   "cell_type": "markdown",
   "metadata": {},
   "source": [
    "**LEVEL 1**"
   ]
  },
  {
   "cell_type": "code",
   "execution_count": 1,
   "metadata": {},
   "outputs": [],
   "source": [
    "# s2=input()\n",
    "# S=''\n",
    "# for i in s2:\n",
    "#     if i=='z':\n",
    "#         S=S+'b'\n",
    "#     elif i==' ' or i =='(' or i==')' or i=='.':\n",
    "#         S=S+i\n",
    "#     elif i=='y':\n",
    "#         S=S+'a'\n",
    "#     else:\n",
    "#        S=S+chr(ord(i)+2)\n",
    "# print(S)"
   ]
  },
  {
   "cell_type": "markdown",
   "metadata": {},
   "source": [
    "**LEVEL 2**"
   ]
  },
  {
   "cell_type": "code",
   "execution_count": 2,
   "metadata": {},
   "outputs": [],
   "source": [
    "# s=input()\n",
    "# a=set([])\n",
    "# c=0\n",
    "# l1=[0 for i in range (25)]\n",
    "# for i in s:\n",
    "#     a.add(i)\n",
    "# l2=list(a)\n",
    "# print(\"\\n\",l2)\n",
    "# for i in s:\n",
    "#     for j in l2:\n",
    "#         if i in l2[c]:\n",
    "#              l1[c]=l1[c]+1\n",
    "#     c=c+1\n",
    "#     if c>24:\n",
    "#         c=0\n",
    "# print(l1)"
   ]
  },
  {
   "cell_type": "markdown",
   "metadata": {},
   "source": [
    "**LEVEL 3**"
   ]
  },
  {
   "cell_type": "code",
   "execution_count": 3,
   "metadata": {},
   "outputs": [],
   "source": [
    "\n",
    "# def fin(v):\n",
    "#     if v.isalpha():\n",
    "#         if v[0].islower():\n",
    "#             if v[1:4].isupper():\n",
    "#                 if v[4].islower():\n",
    "#                     if v[5:8].isupper():\n",
    "#                         if v[8].islower():\n",
    "#                             return True\n",
    "#     return False\n",
    "# s=input()\n",
    "# for i in range (0,len(s)):\n",
    "#     if(fin(s[i:i+9])):\n",
    "#         print(s[i:i+9][4],end='')\n",
    "# #         break\n",
    "# # print(fin('AAAbLLL'))"
   ]
  },
  {
   "cell_type": "markdown",
   "metadata": {},
   "source": [
    "**LEVEL 4**"
   ]
  },
  {
   "cell_type": "code",
   "execution_count": 4,
   "metadata": {
    "scrolled": true
   },
   "outputs": [],
   "source": [
    "# import urllib\n",
    "# s1='3875'\n",
    "# s2=''\n",
    "# while True:\n",
    "#     s='http://www.pythonchallenge.com/pc/def/linkedlist.php?nothing='+s1\n",
    "#     x=urllib.request.urlopen(s)\n",
    "#     data=(x.read()).decode('utf-8')\n",
    "#     l1=data.split()\n",
    "# #     print(l1)\n",
    "#     s1=l1[-1]\n",
    "#     if s1.isdigit()==False:\n",
    "#         if s1=='going.':\n",
    "#             s1=str(int(s2)//2)\n",
    "#         else:\n",
    "#             break\n",
    "#     s2=s1\n",
    "#     print(s1)"
   ]
  },
  {
   "cell_type": "markdown",
   "metadata": {},
   "source": [
    "**LEVEL 5**"
   ]
  },
  {
   "cell_type": "code",
   "execution_count": 5,
   "metadata": {},
   "outputs": [],
   "source": [
    "# import pickle\n",
    "# import urllib\n",
    "# # data=urllib.request.urlopen('http://www.pythonchallenge.com/pc/def/banner.p')\n",
    "# # read=(data.read())\n",
    "# # pickleout=open('pickle','wb')\n",
    "# # pickle.dump(read,pickleout)\n",
    "# # pickleout.close()\n",
    "# picklein=open('banner.p','rb')\n",
    "# out=pickle.load(picklein)\n",
    "# for i in out:\n",
    "#     for j in i:\n",
    "#         print(j[0]*int(j[1]),end='')\n",
    "#     print('\\n')\n",
    "# # print(out)\n",
    "# picklein.close()\n"
   ]
  },
  {
   "cell_type": "markdown",
   "metadata": {},
   "source": [
    "**LEVEL 6**"
   ]
  },
  {
   "cell_type": "code",
   "execution_count": 6,
   "metadata": {},
   "outputs": [],
   "source": [
    "# import urllib\n",
    "# import zipfile\n",
    "# exam=zipfile.ZipFile('channel.zip','r')\n",
    "# files=exam.namelist()\n",
    "# i='90052'\n",
    "# comments=[]\n",
    "# # print(files)\n",
    "# while True:\n",
    "#     content=exam.read(i+'.txt').decode('utf-8')\n",
    "#     comments.append((exam.getinfo(i+'.txt').comment).decode('utf-8'))\n",
    "# #     b=open(,'r')\n",
    "#     print(content)\n",
    "#     l=((exam.read(i+'.txt').decode('utf-8')).split())[-1]\n",
    "# #     if l=='90052':\n",
    "#     i=l\n",
    "# #     print(i)\n",
    "#     if i.isdigit()==False:\n",
    "#         break\n",
    "# #     print(comment,end=\"\")\n",
    "# print(''.join(comments))"
   ]
  },
  {
   "cell_type": "markdown",
   "metadata": {},
   "source": [
    "**LEVEL 7**"
   ]
  },
  {
   "cell_type": "code",
   "execution_count": 7,
   "metadata": {},
   "outputs": [],
   "source": [
    "from PIL import Image"
   ]
  },
  {
   "cell_type": "code",
   "execution_count": 19,
   "metadata": {},
   "outputs": [
    {
     "name": "stdout",
     "output_type": "stream",
     "text": [
      "<PIL.PngImagePlugin.PngImageFile image mode=RGBA size=629x95 at 0x775B448>\n"
     ]
    }
   ],
   "source": [
    "img=Image.open('oxygen.png')\n",
    "print(img)"
   ]
  },
  {
   "cell_type": "code",
   "execution_count": 10,
   "metadata": {},
   "outputs": [
    {
     "name": "stdout",
     "output_type": "stream",
     "text": [
      "(629, 95) RGBA PNG\n"
     ]
    }
   ],
   "source": [
    "print(img.size,img.mode,img.format)"
   ]
  },
  {
   "cell_type": "code",
   "execution_count": 64,
   "metadata": {},
   "outputs": [],
   "source": [
    "img.show()\n",
    "i=img.load()"
   ]
  },
  {
   "cell_type": "code",
   "execution_count": 66,
   "metadata": {},
   "outputs": [
    {
     "name": "stdout",
     "output_type": "stream",
     "text": [
      "(32, 32, 32, 255)\n"
     ]
    }
   ],
   "source": [
    "box=(0,43,629,50)\n",
    "# c=x,y=470,47\n",
    "# print(img.getpixel(c))"
   ]
  },
  {
   "cell_type": "code",
   "execution_count": 67,
   "metadata": {},
   "outputs": [],
   "source": [
    "region=img.crop(box)"
   ]
  },
  {
   "cell_type": "code",
   "execution_count": 68,
   "metadata": {},
   "outputs": [
    {
     "name": "stdout",
     "output_type": "stream",
     "text": [
      "<PIL.Image.Image image mode=RGBA size=629x7 at 0x775D460>\n"
     ]
    }
   ],
   "source": [
    "print(region)"
   ]
  },
  {
   "cell_type": "code",
   "execution_count": 69,
   "metadata": {},
   "outputs": [
    {
     "name": "stdout",
     "output_type": "stream",
     "text": [
      "None\n"
     ]
    }
   ],
   "source": [
    "print(region.show())"
   ]
  },
  {
   "cell_type": "code",
   "execution_count": 45,
   "metadata": {},
   "outputs": [
    {
     "name": "stdout",
     "output_type": "stream",
     "text": [
      "RGBA\n"
     ]
    }
   ],
   "source": [
    "print(region.mode)"
   ]
  },
  {
   "cell_type": "code",
   "execution_count": null,
   "metadata": {},
   "outputs": [],
   "source": []
  }
 ],
 "metadata": {
  "kernelspec": {
   "display_name": "Python 3",
   "language": "python",
   "name": "python3"
  },
  "language_info": {
   "codemirror_mode": {
    "name": "ipython",
    "version": 3
   },
   "file_extension": ".py",
   "mimetype": "text/x-python",
   "name": "python",
   "nbconvert_exporter": "python",
   "pygments_lexer": "ipython3",
   "version": "3.8.2"
  }
 },
 "nbformat": 4,
 "nbformat_minor": 4
}
